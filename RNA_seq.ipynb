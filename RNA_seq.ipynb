{
 "cells": [
  {
   "cell_type": "markdown",
   "metadata": {},
   "source": [
    "# RNA_seq session tutorial"
   ]
  },
  {
   "cell_type": "markdown",
   "metadata": {},
   "source": [
    "#### Plan:\n",
    "\n",
    "1) Download dataset\n",
    "\n",
    "2) Read's QC\n",
    "\n",
    "3) Align reads to reference genome\n",
    "\n",
    "4) Feature count \n",
    "\n",
    "5) DE\n",
    "\n",
    "6) Pathway analysis\n",
    "\n",
    "## Download dataset\n",
    "\n",
    "Lets say that you are somehow obtain dataset. Generally, we always use GEO Datasets (https://www.ncbi.nlm.nih.gov/gds), but in this particular example we copy this GSE from server (path=`/mnt/GSE103958`).\n",
    "\n",
    "After you download this dataset you have to open repo and see what is going on. Unexpectedly, there are lots of `*.fastq.gz` files with forward and reversed reads. After several hours of brain-storming you got that each pair of reads is one sample. So you have to analyse them separatly.\n",
    "\n",
    "## QC\n",
    "\n",
    "In order to automate all this preprocessing phase we are going to create new `.sh` file. There are several additional bioinformatics tools requiered, so if you are trying to launch all of this on your local machine. Be sure that all the prerequisites have already installed.\n",
    "\n",
    "So all our file are in repo `GSE103958/`. All the fastqc output we will store in `fastqc/` repo.\n",
    "\n",
    "Firstly, assign variable `TAGS`, which will give you all GSM samples files names. It will be useful to us, since we are going to iterate through our dataset repo. "
   ]
  },
  {
   "cell_type": "code",
   "execution_count": null,
   "metadata": {},
   "outputs": [],
   "source": [
    "TAGS=$(ls GSE103958/SRX*.fastq.gz | xargs -n 1 basename | sed 's/.fastq.gz//')"
   ]
  },
  {
   "cell_type": "markdown",
   "metadata": {},
   "source": [
    "After that we are ready for iterative fastqc performing:"
   ]
  },
  {
   "cell_type": "code",
   "execution_count": null,
   "metadata": {},
   "outputs": [],
   "source": [
    "for TAG in $TAGS; do\n",
    "  OUTDIR=\"fastqc/$TAG\"; mkdir -p \"$OUTDIR\"\n",
    "  fastqc -o \"$OUTDIR\" \"GSE103958/$TAG.fastq.gz\" |& tee \"$OUTDIR/$TAG.fastqc.log\"\n",
    "done   "
   ]
  },
  {
   "cell_type": "markdown",
   "metadata": {},
   "source": [
    "This cycle will iterate through paths which will give you `TAGS` variable, launch fastqc and store all the output in the repo, named by sample name + `_1/2` . For example, `SRX3195600_1.fastq.gaz` will give you repo named `SRX3195600_1`. Inside this repo you can find all the bucket of fastqc files: `.log`, `.html` and `.fastqc`. If there is some error, find it in `.log`, otherwise there will be only procentage of complitence.\n",
    "\n",
    "I assume that you analyse fastqc result, trim whatever you want and make some conclusions. But I hope that everything is ok that is why we will not touch our reads. Back to them..."
   ]
  },
  {
   "cell_type": "markdown",
   "metadata": {},
   "source": [
    "## Alignment\n",
    "\n",
    "So.. `hisat2`. One of the aligners. We already know `bwa`, `bowtie`, `bowtie2` etc. It is one of them. May be it is performs batter with RNA-seq data. I do not know. Whatever... we use this one. I assume that you have already know all this stuff about `.sam`/`.bam` formats, so we can skip it.\n",
    "\n",
    "As in input this tool takes our reads from `/GSE103958` folder. I assume that you analyse fastqc result, trim whatever you want and make some conclusions and hope that everything is alrignt.\n",
    "\n",
    "So.. lets launch it. Same logic. Create `TAGS` and iterate through pairs of forward/reversed reads."
   ]
  },
  {
   "cell_type": "code",
   "execution_count": null,
   "metadata": {},
   "outputs": [],
   "source": [
    "TAGS=$(ls fastqs/SRX31956*.fastq.gz | xargs -n 1 basename | sed 's/_[1,2].fastq.gz//' | uniq)"
   ]
  },
  {
   "cell_type": "code",
   "execution_count": null,
   "metadata": {},
   "outputs": [],
   "source": [
    "for TAG in $TAGS; do\n",
    "  \n",
    "  HISAT_IDX=/mnt/reference/Gencode_mouse/release_M20/GRCm38.primary_assembly\n",
    "\n",
    "  # aligning to the genome reference\n",
    "\n",
    "  OUTDIR=\"hisat2/$TAG\"; mkdir -p \"$OUTDIR\"\n",
    "  date\n",
    "  hisat2 -p 8 --new-summary -x  ${HISAT_IDX} \\\n",
    "    -1 \"GSE103958/$TAG*_1.fastq.gz\" -2 \"GSE103958/$TAG*_2.fastq.gz\" \\\n",
    "    2> \"$OUTDIR/$TAG.hisat2.log\" \\\n",
    "    | samtools view -b - > \"$OUTDIR/$TAG.mapped.raw.bam\"\n",
    "  date\n",
    "done"
   ]
  },
  {
   "cell_type": "markdown",
   "metadata": {},
   "source": [
    "By the end of the following loop you will get a hell of the `.bam` files. All of this will be stored in `/hisat2` repo. And again.. find all errors and statistics in `.log` files. Lets see what we got in one of them (SRX195600):\n",
    "\n",
    "`\n",
    "HISAT2 summary stats:\n",
    "\tTotal pairs: 3917883\n",
    "\t\tAligned concordantly or discordantly 0 time: 1891894 (48.29%)\n",
    "\t\tAligned concordantly 1 time: 1759408 (44.91%)\n",
    "\t\tAligned concordantly >1 times: 218967 (5.59%)\n",
    "\t\tAligned discordantly 1 time: 47614 (1.22%)\n",
    "\tTotal unpaired reads: 3783788\n",
    "\t\tAligned 0 time: 3227267 (85.29%)\n",
    "\t\tAligned 1 time: 472028 (12.48%)\n",
    "\t\tAligned >1 times: 84493 (2.23%)\n",
    "\tOverall alignment rate: 58.81%\n",
    "`"
   ]
  },
  {
   "cell_type": "markdown",
   "metadata": {},
   "source": [
    "As we figure out on seminar our alignment is strand-dependent and our reversed reads are not aligned well. But what ever... Lets continue."
   ]
  },
  {
   "cell_type": "markdown",
   "metadata": {},
   "source": [
    "### Indexing and sorting our binary files:"
   ]
  },
  {
   "cell_type": "markdown",
   "metadata": {},
   "source": [
    "In this case we use the following `TAG` variable:"
   ]
  },
  {
   "cell_type": "code",
   "execution_count": null,
   "metadata": {},
   "outputs": [],
   "source": [
    "TAGS=$(ls GSE103958/SRX*.fastq.gz | xargs -n 1 basename | sed 's/_[1,2].fastq.gz//')"
   ]
  },
  {
   "cell_type": "markdown",
   "metadata": {},
   "source": [
    "This commands sort our bam file (that means that it will get rid of unmapped reads) and index it (we need indexing for faster performing). "
   ]
  },
  {
   "cell_type": "code",
   "execution_count": null,
   "metadata": {},
   "outputs": [],
   "source": [
    "for TAG in $TAGS; do\n",
    "  OUTDIR=\"hisat2\";\n",
    "  date\n",
    "  samtools sort -@ 8 -O bam \"$OUTDIR/$TAG/$TAG.mapped.raw.bam\" > \"$OUTDIR/$TAG.sorted.bam\" && \\\n",
    "    samtools index \"$OUTDIR/$TAG.sorted.bam\" && \\\n",
    "  date\n",
    "done"
   ]
  },
  {
   "cell_type": "markdown",
   "metadata": {},
   "source": [
    "As an output will be pairs of `.sorted.bam` and `.bai` files (our indeces)."
   ]
  },
  {
   "cell_type": "markdown",
   "metadata": {},
   "source": [
    "## Calculating coverage for vizualization\n",
    "\n"
   ]
  }
 ],
 "metadata": {
  "kernelspec": {
   "display_name": "Python 3",
   "language": "python",
   "name": "python3"
  },
  "language_info": {
   "codemirror_mode": {
    "name": "ipython",
    "version": 3
   },
   "file_extension": ".py",
   "mimetype": "text/x-python",
   "name": "python",
   "nbconvert_exporter": "python",
   "pygments_lexer": "ipython3",
   "version": "3.6.8"
  }
 },
 "nbformat": 4,
 "nbformat_minor": 2
}
